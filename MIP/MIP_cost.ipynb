{
 "cells": [
  {
   "cell_type": "code",
   "execution_count": null,
   "metadata": {},
   "outputs": [],
   "source": [
    "from __future__ import print_function, division\n",
    "from gurobipy import Model, GRB, quicksum, LinExpr\n",
    "import networkx as nx\n",
    "import pickle\n",
    "import numpy, random"
   ]
  },
  {
   "cell_type": "code",
   "execution_count": null,
   "metadata": {},
   "outputs": [],
   "source": [
    "def OPT(model_name, main_graph, samples, budget ,m):\n",
    "    model = Model(model_name)\n",
    "    mvars = []\n",
    "    #active nodes\n",
    "    avars = []\n",
    "    #seed nodes\n",
    "    svars = []\n",
    "    var_seed_dict = {}\n",
    "    var_active_dict = {}\n",
    "\n",
    "    for j in range(len(main_graph.nodes())):\n",
    "        s = model.addVar(lb=0.0, ub=1.0, vtype=GRB.BINARY)\n",
    "        svars.append(s)\n",
    "        var_seed_dict[j] = s\n",
    "\n",
    "    for sample_index, sample in enumerate(samples):\n",
    "        for j in range(len(main_graph.nodes())):\n",
    "            a = model.addVar(lb=0.0, ub=1.0, vtype=GRB.BINARY)\n",
    "            avars.append(a)\n",
    "            var_active_dict[(sample_index,j)] = a    \n",
    "\n",
    "    mvars.append(avars)\n",
    "    mvars.append(svars)\n",
    "\n",
    "    obj_expr = quicksum(avars)\n",
    "    model.setObjective(obj_expr, GRB.MAXIMIZE)\n",
    "    model.addConstr(quicksum(svars), GRB.LESS_EQUAL, budget)\n",
    "\n",
    "    for sample_index, sample in enumerate(samples):\n",
    "        for i in range(len(main_graph.nodes())):\n",
    "            neighbors = nx.ancestors(sample, i) \n",
    "            e = len(neighbors)\n",
    "            ai = var_active_dict[(sample_index,i)]\n",
    "            si = var_seed_dict[i]\n",
    "            neighbors_active_vars = []\n",
    "            neighbors_seed_vars = []\n",
    "            neighbors_active_vars.append(((e+1), ai))\n",
    "            neighbors_seed_vars.append(si)\n",
    "            for neighbor in neighbors:\n",
    "                neighbors_active_vars.append(((e+1), var_active_dict[(sample_index,neighbor)]))\n",
    "                neighbors_seed_vars.append(var_seed_dict[neighbor])\n",
    "            seed_neighbors = quicksum(neighbors_seed_vars)\n",
    "            model.addConstr(ai, GRB.LESS_EQUAL, seed_neighbors)\n",
    "            model.addConstr(seed_neighbors, GRB.LESS_EQUAL, LinExpr(neighbors_active_vars))\n",
    "    try:\n",
    "        model.optimize()\n",
    "    except e:\n",
    "        print(e)       \n",
    "            \n",
    "    objective = model.ObjVal     \n",
    "    return objective"
   ]
  },
  {
   "cell_type": "code",
   "execution_count": null,
   "metadata": {},
   "outputs": [],
   "source": [
    "def Mont_Carlo_Samplig(main_graph, m):\n",
    "    samples = []\n",
    "    for j in range(m):\n",
    "        G = nx.DiGraph()\n",
    "        for u in main_graph.nodes():\n",
    "            G.add_node(u)\n",
    "        for u,v in main_graph.edges():\n",
    "            if main_graph[u][v]['p']> random.random():\n",
    "                G.add_edge(u, v)\n",
    "        samples.append(G)\n",
    "    return samples"
   ]
  },
  {
   "cell_type": "code",
   "execution_count": null,
   "metadata": {},
   "outputs": [],
   "source": [
    "def stage_1_MIP(main_graph, budget ,m, index):\n",
    "    model_name = 'Basic_MIP_'+str(index)\n",
    "    samples = Mont_Carlo_Samplig(main_graph, m)\n",
    "    objective = OPT(model_name, main_graph, samples, budget ,m)\n",
    "    return opt_dict"
   ]
  }
 ],
 "metadata": {
  "kernelspec": {
   "display_name": "Python 2",
   "language": "python",
   "name": "python2"
  },
  "language_info": {
   "codemirror_mode": {
    "name": "ipython",
    "version": 2
   },
   "file_extension": ".py",
   "mimetype": "text/x-python",
   "name": "python",
   "nbconvert_exporter": "python",
   "pygments_lexer": "ipython2",
   "version": "2.7.16"
  }
 },
 "nbformat": 4,
 "nbformat_minor": 2
}
