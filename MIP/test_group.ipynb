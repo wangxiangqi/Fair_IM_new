{
 "cells": [
  {
   "cell_type": "code",
   "execution_count": 1,
   "metadata": {},
   "outputs": [],
   "source": [
    "from __future__ import print_function, division\n",
    "from gurobipy import Model, GRB, quicksum, LinExpr\n",
    "import networkx as nx\n",
    "import pickle\n",
    "import numpy, random"
   ]
  },
  {
   "cell_type": "code",
   "execution_count": 2,
   "metadata": {},
   "outputs": [],
   "source": [
    "with open('../MIP/data/networks_prob/graph_spa_500_0.pickle', \"rb\") as f:\n",
    "    main_graph = pickle.load(f)\n",
    "    \n",
    "samples = []\n",
    "m = 10\n",
    "for j in range(m):\n",
    "    G = nx.DiGraph()\n",
    "    for u in main_graph.nodes():\n",
    "        G.add_node(u)\n",
    "    for u,v in main_graph.edges():\n",
    "        if main_graph[u][v]['p']> random.random():\n",
    "            G.add_edge(u, v)\n",
    "    samples.append(G)"
   ]
  },
  {
   "cell_type": "code",
   "execution_count": 3,
   "metadata": {},
   "outputs": [],
   "source": [
    "model = Model('IM')\n",
    "min_value = model.addVar(lb=0.0, ub=1.0, vtype=GRB.CONTINUOUS)\n",
    "\n",
    "mvars = []\n",
    "#active nodes\n",
    "avars = []\n",
    "#seed nodes\n",
    "svars = []\n",
    "var_seed_dict = {}\n",
    "var_active_dict = {}\n",
    "var_mean_dict = {}\n",
    "\n",
    "for j in range(len(main_graph.nodes())):\n",
    "    s = model.addVar(lb=0.0, ub=1.0, vtype=GRB.BINARY)\n",
    "    svars.append(s)\n",
    "    var_seed_dict[j] = s\n",
    "\n",
    "for sample_index, sample in enumerate(samples):\n",
    "    for j in range(len(main_graph.nodes())):\n",
    "        a = model.addVar(lb=0.0, ub=1.0, vtype=GRB.BINARY)\n",
    "        avars.append(a)\n",
    "        var_active_dict[(sample_index,j)] = a    \n",
    "            \n",
    "mvars.append(avars)\n",
    "mvars.append(svars)"
   ]
  },
  {
   "cell_type": "code",
   "execution_count": 4,
   "metadata": {},
   "outputs": [
    {
     "data": {
      "text/plain": [
       "<gurobi.Constr *Awaiting Model Update*>"
      ]
     },
     "execution_count": 4,
     "metadata": {},
     "output_type": "execute_result"
    }
   ],
   "source": [
    "budget = 25\n",
    "model.addConstr(quicksum(svars), GRB.LESS_EQUAL, budget)"
   ]
  },
  {
   "cell_type": "code",
   "execution_count": 5,
   "metadata": {},
   "outputs": [],
   "source": [
    "obj_expr = quicksum(avars)\n",
    "model.setObjective(obj_expr, GRB.MAXIMIZE)\n"
   ]
  },
  {
   "cell_type": "code",
   "execution_count": 6,
   "metadata": {},
   "outputs": [],
   "source": [
    "attributes = ['gender']#,'age', 'region', 'ethnicity']\n",
    "epsilon = 0.1  \n",
    "for attribute in attributes:\n",
    "    for sample_index, sample in enumerate(samples):\n",
    "        for i in range(len(main_graph.nodes())):\n",
    "            neighbors = nx.ancestors(sample, i) \n",
    "            e = len(neighbors)\n",
    "            ai = var_active_dict[(sample_index,i)]\n",
    "            si = var_seed_dict[i]\n",
    "            if i in  var_mean_dict.keys():\n",
    "                var_mean_dict[i]+= ai\n",
    "            else:\n",
    "                var_mean_dict[i]= ai\n",
    "            neighbors_active_vars = []\n",
    "            neighbors_seed_vars = []\n",
    "            neighbors_active_vars.append(((e+1), ai))\n",
    "            neighbors_seed_vars.append(si)\n",
    "            for neighbor in neighbors:\n",
    "                neighbors_active_vars.append(((e+1), var_active_dict[(sample_index,neighbor)]))\n",
    "                neighbors_seed_vars.append(var_seed_dict[neighbor])\n",
    "            seed_neighbors = quicksum(neighbors_seed_vars)\n",
    "            model.addConstr(ai, GRB.LESS_EQUAL, seed_neighbors)\n",
    "            model.addConstr(seed_neighbors, GRB.LESS_EQUAL, LinExpr(neighbors_active_vars))\n",
    "\n",
    "    labels = nx.get_node_attributes(main_graph, attribute)\n",
    "    label_dict = {}\n",
    "    for i in range(len(main_graph.nodes())):\n",
    "        label = labels[i].encode('utf-8')\n",
    "        if label in label_dict.keys():\n",
    "            label_dict[label].append(i)\n",
    "        else:\n",
    "            label_dict[label] = [i] \n",
    "\n",
    "    for label in label_dict.keys():\n",
    "        active_label_vars = []\n",
    "        label_size = len(label_dict[label])\n",
    "        frac = float(label_size)/float(len(main_graph.nodes()))\n",
    "        epsilon_plus_active = []\n",
    "        epsilon_minus_active = []\n",
    "        for avar in avars:\n",
    "            epsilon_plus_active.append((frac+epsilon, avar))\n",
    "            epsilon_minus_active.append((frac-epsilon, avar))\n",
    "        for sample_index, sample in enumerate(samples):\n",
    "            for node in label_dict[label]:\n",
    "                active_label_vars.append(var_active_dict[(sample_index, node)])\n",
    "            \n",
    "        lin_exr_plus = LinExpr(epsilon_plus_active)\n",
    "        lin_exr_minus = LinExpr(epsilon_minus_active)\n",
    "        expr = quicksum(active_label_vars)      \n",
    "        model.addConstr(expr, GRB.LESS_EQUAL, lin_exr_plus)\n",
    "        model.addConstr(expr, GRB.LESS_EQUAL, lin_exr_minus)  "
   ]
  },
  {
   "cell_type": "code",
   "execution_count": 7,
   "metadata": {},
   "outputs": [
    {
     "name": "stdout",
     "output_type": "stream",
     "text": [
      "Optimize a model with 10005 rows, 5501 columns and 51174 nonzeros\n",
      "Variable types: 1 continuous, 5500 integer (5500 binary)\n",
      "Coefficient statistics:\n",
      "  Matrix range     [4e-01, 1e+01]\n",
      "  Objective range  [1e+00, 1e+00]\n",
      "  Bounds range     [1e+00, 1e+00]\n",
      "  RHS range        [2e+01, 2e+01]\n",
      "Found heuristic solution: objective -0.0000000\n",
      "Presolve removed 10005 rows and 5501 columns\n",
      "Presolve time: 0.02s\n",
      "Presolve: All rows and columns removed\n",
      "\n",
      "Explored 0 nodes (0 simplex iterations) in 0.04 seconds\n",
      "Thread count was 1 (of 8 available processors)\n",
      "\n",
      "Solution count 1: -0 \n",
      "\n",
      "Optimal solution found (tolerance 1.00e-04)\n",
      "Best objective -0.000000000000e+00, best bound -0.000000000000e+00, gap 0.0000%\n"
     ]
    }
   ],
   "source": [
    "try:\n",
    "    model.optimize()\n",
    "except e:\n",
    "    print(e)"
   ]
  },
  {
   "cell_type": "code",
   "execution_count": 8,
   "metadata": {},
   "outputs": [],
   "source": [
    "for key,value in var_seed_dict.items():\n",
    "    if(value.x > 0):\n",
    "        print(key)"
   ]
  },
  {
   "cell_type": "code",
   "execution_count": 9,
   "metadata": {},
   "outputs": [
    {
     "data": {
      "text/plain": [
       "True"
      ]
     },
     "execution_count": 9,
     "metadata": {},
     "output_type": "execute_result"
    }
   ],
   "source": [
    "optimal = (model.Status == GRB.OPTIMAL)\n",
    "optimal"
   ]
  },
  {
   "cell_type": "code",
   "execution_count": 10,
   "metadata": {},
   "outputs": [
    {
     "data": {
      "text/plain": [
       "-0.0"
      ]
     },
     "execution_count": 10,
     "metadata": {},
     "output_type": "execute_result"
    }
   ],
   "source": [
    "objective = model.ObjVal\n",
    "objective"
   ]
  },
  {
   "cell_type": "code",
   "execution_count": 11,
   "metadata": {},
   "outputs": [
    {
     "data": {
      "text/plain": [
       "-0.0"
      ]
     },
     "execution_count": 11,
     "metadata": {},
     "output_type": "execute_result"
    }
   ],
   "source": [
    "objective/(500*m)"
   ]
  },
  {
   "cell_type": "code",
   "execution_count": null,
   "metadata": {},
   "outputs": [],
   "source": []
  }
 ],
 "metadata": {
  "kernelspec": {
   "display_name": "Python 2",
   "language": "python",
   "name": "python2"
  },
  "language_info": {
   "codemirror_mode": {
    "name": "ipython",
    "version": 2
   },
   "file_extension": ".py",
   "mimetype": "text/x-python",
   "name": "python",
   "nbconvert_exporter": "python",
   "pygments_lexer": "ipython2",
   "version": "2.7.16"
  }
 },
 "nbformat": 4,
 "nbformat_minor": 2
}
