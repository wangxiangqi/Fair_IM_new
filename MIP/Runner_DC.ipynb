{
 "cells": [
  {
   "cell_type": "code",
   "execution_count": 1,
   "metadata": {},
   "outputs": [],
   "source": [
    "from __future__ import print_function, division\n",
    "from gurobipy import Model, GRB, quicksum, LinExpr\n",
    "import networkx as nx\n",
    "import pickle\n",
    "import numpy, random\n",
    "import argparse\n",
    "from MIP_DC import Mont_Carlo_Samplig, stage_1_MIP, induce_sub_graphs"
   ]
  },
  {
   "cell_type": "code",
   "execution_count": 2,
   "metadata": {},
   "outputs": [],
   "source": [
    "def MIP_IM(attribute, m, input_graph, output_file, log_file):\n",
    "    budget = 25\n",
    "    with open(input_graph, \"rb\") as f:\n",
    "        main_graph = pickle.load(f)\n",
    "        labels = nx.get_node_attributes(main_graph, attribute)\n",
    "        label_dict = {}\n",
    "        for i in range(len(main_graph.nodes())):\n",
    "            label = labels[i].encode('utf-8')\n",
    "            if label in label_dict.keys():\n",
    "                label_dict[label].append(i)\n",
    "            else:\n",
    "                label_dict[label] = [i] \n",
    "        index = random.randint(0,100)\n",
    "        opt_dict = stage_1_MIP(main_graph, label_dict, budget ,m, index)\n",
    "        stage_2_MIP(main_graph, opt_dict, attribute, label_dict, budget ,m, index, output_file, log_file, input_graph)"
   ]
  },
  {
   "cell_type": "code",
   "execution_count": 3,
   "metadata": {},
   "outputs": [],
   "source": [
    "def stage_2_MIP(main_graph, opt_dict, attribute, label_dict, budget ,m, index, output_file, log_file, input_graph):\n",
    "    samples =  Mont_Carlo_Samplig(main_graph, m)\n",
    "    model_name = 'DC_stage_2'+str(attribute)+'_'+str(index)\n",
    "    model = Model(model_name)\n",
    "    model.setParam('OutputFlag', 0)\n",
    "    model.setParam('TimeLimit', 3600)\n",
    "        \n",
    "    mvars = []\n",
    "    #active nodes\n",
    "    avars = []\n",
    "    #seed nodes\n",
    "    svars = []\n",
    "    var_seed_dict = {}\n",
    "    var_active_dict = {}\n",
    "\n",
    "    for j in main_graph.nodes():\n",
    "        s = model.addVar(lb=0.0, ub=1.0, vtype=GRB.BINARY)\n",
    "        svars.append(s)\n",
    "        var_seed_dict[j] = s\n",
    "\n",
    "    for sample_index, sample in enumerate(samples):\n",
    "        for j in main_graph.nodes():\n",
    "            a = model.addVar(lb=0.0, ub=1.0, vtype=GRB.BINARY)\n",
    "            avars.append(a)\n",
    "            var_active_dict[(sample_index,j)] = a    \n",
    "\n",
    "    mvars.append(avars)\n",
    "    mvars.append(svars)\n",
    "\n",
    "    obj_expr = quicksum(avars)\n",
    "    model.setObjective(obj_expr, GRB.MAXIMIZE)\n",
    "    model.addConstr(quicksum(svars), GRB.LESS_EQUAL, budget)\n",
    "\n",
    "    for sample_index, sample in enumerate(samples):\n",
    "        for i in main_graph.nodes():\n",
    "            if (sample.has_node(i)):\n",
    "                neighbors = nx.ancestors(sample, i) \n",
    "                e = len(neighbors)\n",
    "                ai = var_active_dict[(sample_index,i)]\n",
    "                si = var_seed_dict[i]\n",
    "                neighbors_active_vars = []\n",
    "                neighbors_seed_vars = []\n",
    "                neighbors_active_vars.append(((e+1), ai))\n",
    "                neighbors_seed_vars.append(si)\n",
    "                for neighbor in neighbors:\n",
    "                    neighbors_active_vars.append(((e+1), var_active_dict[(sample_index,neighbor)]))\n",
    "                    neighbors_seed_vars.append(var_seed_dict[neighbor])\n",
    "                seed_neighbors = quicksum(neighbors_seed_vars)\n",
    "                model.addConstr(ai, GRB.LESS_EQUAL, seed_neighbors)\n",
    "                model.addConstr(seed_neighbors, GRB.LESS_EQUAL, LinExpr(neighbors_active_vars))\n",
    "            \n",
    "    for label,node_labels in label_dict.items():\n",
    "        label_vars = []\n",
    "        for sample_index, sample in enumerate(samples): \n",
    "            for node in node_labels:\n",
    "                label_vars.append(var_active_dict[(sample_index,neighbor)])\n",
    "        expr = quicksum(label_vars)\n",
    "        model.addConstr(expr, GRB.GREATER_EQUAL , opt_dict[label])    \n",
    "    \n",
    "    try:\n",
    "        model.optimize()\n",
    "    except e:\n",
    "        print(e) \n",
    "        \n",
    "        \n",
    "    objective_value = -1\n",
    "        \n",
    "    if (model.solCount>0):\n",
    "        objective_value = model.ObjVal\n",
    "        with open(output_file, \"w\") as of:    \n",
    "            for key,value in var_seed_dict.items():\n",
    "                if(value.x > 0):\n",
    "                    print(key, file = of)\n",
    "\n",
    "    with open(log_file, \"w\") as of:  \n",
    "        runtime = model.Runtime\n",
    "        status = model.Status\n",
    "        print('runtime\\t%f'%(runtime), file = of)\n",
    "        print('objective_value\\t%f'%(objective_value), file = of)\n",
    "        print('status\\t%d'%(status), file = of)\n",
    "        print('sample_size\\t%d'%(m), file = of)\n",
    "        print('input_graph\\t%s'%(input_graph), file = of)"
   ]
  },
  {
   "cell_type": "code",
   "execution_count": 4,
   "metadata": {},
   "outputs": [
    {
     "name": "stderr",
     "output_type": "stream",
     "text": [
      "usage: ipykernel_launcher.py [-h]\n",
      "                             attribute sample_size input_graph output_file\n",
      "                             log_file\n",
      "ipykernel_launcher.py: error: too few arguments\n"
     ]
    },
    {
     "ename": "SystemExit",
     "evalue": "2",
     "output_type": "error",
     "traceback": [
      "An exception has occurred, use %tb to see the full traceback.\n",
      "\u001b[0;31mSystemExit\u001b[0m\u001b[0;31m:\u001b[0m 2\n"
     ]
    },
    {
     "name": "stderr",
     "output_type": "stream",
     "text": [
      "/miniconda3/envs/gurobi_env/lib/python2.7/site-packages/IPython/core/interactiveshell.py:2886: UserWarning: To exit: use 'exit', 'quit', or Ctrl-D.\n",
      "  warn(\"To exit: use 'exit', 'quit', or Ctrl-D.\", stacklevel=1)\n"
     ]
    }
   ],
   "source": [
    "if __name__ == '__main__':\n",
    "\n",
    "    parser = argparse.ArgumentParser()\n",
    "    parser.add_argument('attribute', type=str)\n",
    "    parser.add_argument('sample_size', type=int)\n",
    "    parser.add_argument('input_graph', type=str)\n",
    "    parser.add_argument('output_file', type=str)\n",
    "    parser.add_argument('log_file', type=str)\n",
    "    args = parser.parse_args()\n",
    "\n",
    "    MIP_IM(args.attribute, args.sample_size, args.input_graph, args.output_file, args.log_file)"
   ]
  }
 ],
 "metadata": {
  "kernelspec": {
   "display_name": "Python 2",
   "language": "python",
   "name": "python2"
  },
  "language_info": {
   "codemirror_mode": {
    "name": "ipython",
    "version": 2
   },
   "file_extension": ".py",
   "mimetype": "text/x-python",
   "name": "python",
   "nbconvert_exporter": "python",
   "pygments_lexer": "ipython2",
   "version": "2.7.16"
  }
 },
 "nbformat": 4,
 "nbformat_minor": 2
}
